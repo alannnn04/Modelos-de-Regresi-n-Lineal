{
  "cells": [
    {
      "cell_type": "markdown",
      "metadata": {
        "id": "view-in-github",
        "colab_type": "text"
      },
      "source": [
        "<a href=\"https://colab.research.google.com/github/alannnn04/Modelos-de-Regresi-n-Lineal/blob/main/5Modelos_de_Regresi%C3%B3n_Lineal.ipynb\" target=\"_parent\"><img src=\"https://colab.research.google.com/assets/colab-badge.svg\" alt=\"Open In Colab\"/></a>"
      ]
    },
    {
      "cell_type": "code",
      "execution_count": 1,
      "metadata": {
        "id": "PbLM4V2EQWSp"
      },
      "outputs": [],
      "source": [
        "import pandas as pd\n",
        "import numpy as np\n",
        "import matplotlib.pyplot as plt\n",
        "import seaborn as sns\n",
        "\n"
      ]
    },
    {
      "cell_type": "code",
      "execution_count": 2,
      "metadata": {
        "colab": {
          "base_uri": "https://localhost:8080/",
          "height": 378
        },
        "id": "Q37WWLKHQ0QY",
        "outputId": "bd208d2b-375e-4ac8-dc43-b349171581f5"
      },
      "outputs": [
        {
          "output_type": "display_data",
          "data": {
            "text/plain": [
              "<IPython.core.display.HTML object>"
            ],
            "text/html": [
              "\n",
              "     <input type=\"file\" id=\"files-1cf4c9a3-fcc0-4fb7-a342-bb82699d50af\" name=\"files[]\" multiple disabled\n",
              "        style=\"border:none\" />\n",
              "     <output id=\"result-1cf4c9a3-fcc0-4fb7-a342-bb82699d50af\">\n",
              "      Upload widget is only available when the cell has been executed in the\n",
              "      current browser session. Please rerun this cell to enable.\n",
              "      </output>\n",
              "      <script>// Copyright 2017 Google LLC\n",
              "//\n",
              "// Licensed under the Apache License, Version 2.0 (the \"License\");\n",
              "// you may not use this file except in compliance with the License.\n",
              "// You may obtain a copy of the License at\n",
              "//\n",
              "//      http://www.apache.org/licenses/LICENSE-2.0\n",
              "//\n",
              "// Unless required by applicable law or agreed to in writing, software\n",
              "// distributed under the License is distributed on an \"AS IS\" BASIS,\n",
              "// WITHOUT WARRANTIES OR CONDITIONS OF ANY KIND, either express or implied.\n",
              "// See the License for the specific language governing permissions and\n",
              "// limitations under the License.\n",
              "\n",
              "/**\n",
              " * @fileoverview Helpers for google.colab Python module.\n",
              " */\n",
              "(function(scope) {\n",
              "function span(text, styleAttributes = {}) {\n",
              "  const element = document.createElement('span');\n",
              "  element.textContent = text;\n",
              "  for (const key of Object.keys(styleAttributes)) {\n",
              "    element.style[key] = styleAttributes[key];\n",
              "  }\n",
              "  return element;\n",
              "}\n",
              "\n",
              "// Max number of bytes which will be uploaded at a time.\n",
              "const MAX_PAYLOAD_SIZE = 100 * 1024;\n",
              "\n",
              "function _uploadFiles(inputId, outputId) {\n",
              "  const steps = uploadFilesStep(inputId, outputId);\n",
              "  const outputElement = document.getElementById(outputId);\n",
              "  // Cache steps on the outputElement to make it available for the next call\n",
              "  // to uploadFilesContinue from Python.\n",
              "  outputElement.steps = steps;\n",
              "\n",
              "  return _uploadFilesContinue(outputId);\n",
              "}\n",
              "\n",
              "// This is roughly an async generator (not supported in the browser yet),\n",
              "// where there are multiple asynchronous steps and the Python side is going\n",
              "// to poll for completion of each step.\n",
              "// This uses a Promise to block the python side on completion of each step,\n",
              "// then passes the result of the previous step as the input to the next step.\n",
              "function _uploadFilesContinue(outputId) {\n",
              "  const outputElement = document.getElementById(outputId);\n",
              "  const steps = outputElement.steps;\n",
              "\n",
              "  const next = steps.next(outputElement.lastPromiseValue);\n",
              "  return Promise.resolve(next.value.promise).then((value) => {\n",
              "    // Cache the last promise value to make it available to the next\n",
              "    // step of the generator.\n",
              "    outputElement.lastPromiseValue = value;\n",
              "    return next.value.response;\n",
              "  });\n",
              "}\n",
              "\n",
              "/**\n",
              " * Generator function which is called between each async step of the upload\n",
              " * process.\n",
              " * @param {string} inputId Element ID of the input file picker element.\n",
              " * @param {string} outputId Element ID of the output display.\n",
              " * @return {!Iterable<!Object>} Iterable of next steps.\n",
              " */\n",
              "function* uploadFilesStep(inputId, outputId) {\n",
              "  const inputElement = document.getElementById(inputId);\n",
              "  inputElement.disabled = false;\n",
              "\n",
              "  const outputElement = document.getElementById(outputId);\n",
              "  outputElement.innerHTML = '';\n",
              "\n",
              "  const pickedPromise = new Promise((resolve) => {\n",
              "    inputElement.addEventListener('change', (e) => {\n",
              "      resolve(e.target.files);\n",
              "    });\n",
              "  });\n",
              "\n",
              "  const cancel = document.createElement('button');\n",
              "  inputElement.parentElement.appendChild(cancel);\n",
              "  cancel.textContent = 'Cancel upload';\n",
              "  const cancelPromise = new Promise((resolve) => {\n",
              "    cancel.onclick = () => {\n",
              "      resolve(null);\n",
              "    };\n",
              "  });\n",
              "\n",
              "  // Wait for the user to pick the files.\n",
              "  const files = yield {\n",
              "    promise: Promise.race([pickedPromise, cancelPromise]),\n",
              "    response: {\n",
              "      action: 'starting',\n",
              "    }\n",
              "  };\n",
              "\n",
              "  cancel.remove();\n",
              "\n",
              "  // Disable the input element since further picks are not allowed.\n",
              "  inputElement.disabled = true;\n",
              "\n",
              "  if (!files) {\n",
              "    return {\n",
              "      response: {\n",
              "        action: 'complete',\n",
              "      }\n",
              "    };\n",
              "  }\n",
              "\n",
              "  for (const file of files) {\n",
              "    const li = document.createElement('li');\n",
              "    li.append(span(file.name, {fontWeight: 'bold'}));\n",
              "    li.append(span(\n",
              "        `(${file.type || 'n/a'}) - ${file.size} bytes, ` +\n",
              "        `last modified: ${\n",
              "            file.lastModifiedDate ? file.lastModifiedDate.toLocaleDateString() :\n",
              "                                    'n/a'} - `));\n",
              "    const percent = span('0% done');\n",
              "    li.appendChild(percent);\n",
              "\n",
              "    outputElement.appendChild(li);\n",
              "\n",
              "    const fileDataPromise = new Promise((resolve) => {\n",
              "      const reader = new FileReader();\n",
              "      reader.onload = (e) => {\n",
              "        resolve(e.target.result);\n",
              "      };\n",
              "      reader.readAsArrayBuffer(file);\n",
              "    });\n",
              "    // Wait for the data to be ready.\n",
              "    let fileData = yield {\n",
              "      promise: fileDataPromise,\n",
              "      response: {\n",
              "        action: 'continue',\n",
              "      }\n",
              "    };\n",
              "\n",
              "    // Use a chunked sending to avoid message size limits. See b/62115660.\n",
              "    let position = 0;\n",
              "    do {\n",
              "      const length = Math.min(fileData.byteLength - position, MAX_PAYLOAD_SIZE);\n",
              "      const chunk = new Uint8Array(fileData, position, length);\n",
              "      position += length;\n",
              "\n",
              "      const base64 = btoa(String.fromCharCode.apply(null, chunk));\n",
              "      yield {\n",
              "        response: {\n",
              "          action: 'append',\n",
              "          file: file.name,\n",
              "          data: base64,\n",
              "        },\n",
              "      };\n",
              "\n",
              "      let percentDone = fileData.byteLength === 0 ?\n",
              "          100 :\n",
              "          Math.round((position / fileData.byteLength) * 100);\n",
              "      percent.textContent = `${percentDone}% done`;\n",
              "\n",
              "    } while (position < fileData.byteLength);\n",
              "  }\n",
              "\n",
              "  // All done.\n",
              "  yield {\n",
              "    response: {\n",
              "      action: 'complete',\n",
              "    }\n",
              "  };\n",
              "}\n",
              "\n",
              "scope.google = scope.google || {};\n",
              "scope.google.colab = scope.google.colab || {};\n",
              "scope.google.colab._files = {\n",
              "  _uploadFiles,\n",
              "  _uploadFilesContinue,\n",
              "};\n",
              "})(self);\n",
              "</script> "
            ]
          },
          "metadata": {}
        },
        {
          "output_type": "error",
          "ename": "KeyboardInterrupt",
          "evalue": "ignored",
          "traceback": [
            "\u001b[0;31m---------------------------------------------------------------------------\u001b[0m",
            "\u001b[0;31mKeyboardInterrupt\u001b[0m                         Traceback (most recent call last)",
            "\u001b[0;32m<ipython-input-2-0e7b63999153>\u001b[0m in \u001b[0;36m<cell line: 3>\u001b[0;34m()\u001b[0m\n\u001b[1;32m      1\u001b[0m \u001b[0;31m#Cargar archivo csv desde equipo\u001b[0m\u001b[0;34m\u001b[0m\u001b[0;34m\u001b[0m\u001b[0m\n\u001b[1;32m      2\u001b[0m \u001b[0;32mfrom\u001b[0m \u001b[0mgoogle\u001b[0m\u001b[0;34m.\u001b[0m\u001b[0mcolab\u001b[0m \u001b[0;32mimport\u001b[0m \u001b[0mfiles\u001b[0m\u001b[0;34m\u001b[0m\u001b[0;34m\u001b[0m\u001b[0m\n\u001b[0;32m----> 3\u001b[0;31m \u001b[0mfiles\u001b[0m\u001b[0;34m.\u001b[0m\u001b[0mupload\u001b[0m\u001b[0;34m(\u001b[0m\u001b[0;34m)\u001b[0m\u001b[0;34m\u001b[0m\u001b[0;34m\u001b[0m\u001b[0m\n\u001b[0m",
            "\u001b[0;32m/usr/local/lib/python3.10/dist-packages/google/colab/files.py\u001b[0m in \u001b[0;36mupload\u001b[0;34m()\u001b[0m\n\u001b[1;32m     67\u001b[0m   \"\"\"\n\u001b[1;32m     68\u001b[0m \u001b[0;34m\u001b[0m\u001b[0m\n\u001b[0;32m---> 69\u001b[0;31m   \u001b[0muploaded_files\u001b[0m \u001b[0;34m=\u001b[0m \u001b[0m_upload_files\u001b[0m\u001b[0;34m(\u001b[0m\u001b[0mmultiple\u001b[0m\u001b[0;34m=\u001b[0m\u001b[0;32mTrue\u001b[0m\u001b[0;34m)\u001b[0m\u001b[0;34m\u001b[0m\u001b[0;34m\u001b[0m\u001b[0m\n\u001b[0m\u001b[1;32m     70\u001b[0m   \u001b[0;31m# Mapping from original filename to filename as saved locally.\u001b[0m\u001b[0;34m\u001b[0m\u001b[0;34m\u001b[0m\u001b[0m\n\u001b[1;32m     71\u001b[0m   \u001b[0mlocal_filenames\u001b[0m \u001b[0;34m=\u001b[0m \u001b[0mdict\u001b[0m\u001b[0;34m(\u001b[0m\u001b[0;34m)\u001b[0m\u001b[0;34m\u001b[0m\u001b[0;34m\u001b[0m\u001b[0m\n",
            "\u001b[0;32m/usr/local/lib/python3.10/dist-packages/google/colab/files.py\u001b[0m in \u001b[0;36m_upload_files\u001b[0;34m(multiple)\u001b[0m\n\u001b[1;32m    154\u001b[0m \u001b[0;34m\u001b[0m\u001b[0m\n\u001b[1;32m    155\u001b[0m   \u001b[0;31m# First result is always an indication that the file picker has completed.\u001b[0m\u001b[0;34m\u001b[0m\u001b[0;34m\u001b[0m\u001b[0m\n\u001b[0;32m--> 156\u001b[0;31m   result = _output.eval_js(\n\u001b[0m\u001b[1;32m    157\u001b[0m       'google.colab._files._uploadFiles(\"{input_id}\", \"{output_id}\")'.format(\n\u001b[1;32m    158\u001b[0m           \u001b[0minput_id\u001b[0m\u001b[0;34m=\u001b[0m\u001b[0minput_id\u001b[0m\u001b[0;34m,\u001b[0m \u001b[0moutput_id\u001b[0m\u001b[0;34m=\u001b[0m\u001b[0moutput_id\u001b[0m\u001b[0;34m\u001b[0m\u001b[0;34m\u001b[0m\u001b[0m\n",
            "\u001b[0;32m/usr/local/lib/python3.10/dist-packages/google/colab/output/_js.py\u001b[0m in \u001b[0;36meval_js\u001b[0;34m(script, ignore_result, timeout_sec)\u001b[0m\n\u001b[1;32m     38\u001b[0m   \u001b[0;32mif\u001b[0m \u001b[0mignore_result\u001b[0m\u001b[0;34m:\u001b[0m\u001b[0;34m\u001b[0m\u001b[0;34m\u001b[0m\u001b[0m\n\u001b[1;32m     39\u001b[0m     \u001b[0;32mreturn\u001b[0m\u001b[0;34m\u001b[0m\u001b[0;34m\u001b[0m\u001b[0m\n\u001b[0;32m---> 40\u001b[0;31m   \u001b[0;32mreturn\u001b[0m \u001b[0m_message\u001b[0m\u001b[0;34m.\u001b[0m\u001b[0mread_reply_from_input\u001b[0m\u001b[0;34m(\u001b[0m\u001b[0mrequest_id\u001b[0m\u001b[0;34m,\u001b[0m \u001b[0mtimeout_sec\u001b[0m\u001b[0;34m)\u001b[0m\u001b[0;34m\u001b[0m\u001b[0;34m\u001b[0m\u001b[0m\n\u001b[0m\u001b[1;32m     41\u001b[0m \u001b[0;34m\u001b[0m\u001b[0m\n\u001b[1;32m     42\u001b[0m \u001b[0;34m\u001b[0m\u001b[0m\n",
            "\u001b[0;32m/usr/local/lib/python3.10/dist-packages/google/colab/_message.py\u001b[0m in \u001b[0;36mread_reply_from_input\u001b[0;34m(message_id, timeout_sec)\u001b[0m\n\u001b[1;32m     94\u001b[0m     \u001b[0mreply\u001b[0m \u001b[0;34m=\u001b[0m \u001b[0m_read_next_input_message\u001b[0m\u001b[0;34m(\u001b[0m\u001b[0;34m)\u001b[0m\u001b[0;34m\u001b[0m\u001b[0;34m\u001b[0m\u001b[0m\n\u001b[1;32m     95\u001b[0m     \u001b[0;32mif\u001b[0m \u001b[0mreply\u001b[0m \u001b[0;34m==\u001b[0m \u001b[0m_NOT_READY\u001b[0m \u001b[0;32mor\u001b[0m \u001b[0;32mnot\u001b[0m \u001b[0misinstance\u001b[0m\u001b[0;34m(\u001b[0m\u001b[0mreply\u001b[0m\u001b[0;34m,\u001b[0m \u001b[0mdict\u001b[0m\u001b[0;34m)\u001b[0m\u001b[0;34m:\u001b[0m\u001b[0;34m\u001b[0m\u001b[0;34m\u001b[0m\u001b[0m\n\u001b[0;32m---> 96\u001b[0;31m       \u001b[0mtime\u001b[0m\u001b[0;34m.\u001b[0m\u001b[0msleep\u001b[0m\u001b[0;34m(\u001b[0m\u001b[0;36m0.025\u001b[0m\u001b[0;34m)\u001b[0m\u001b[0;34m\u001b[0m\u001b[0;34m\u001b[0m\u001b[0m\n\u001b[0m\u001b[1;32m     97\u001b[0m       \u001b[0;32mcontinue\u001b[0m\u001b[0;34m\u001b[0m\u001b[0;34m\u001b[0m\u001b[0m\n\u001b[1;32m     98\u001b[0m     if (\n",
            "\u001b[0;31mKeyboardInterrupt\u001b[0m: "
          ]
        }
      ],
      "source": [
        "#Cargar archivo csv desde equipo\n",
        "from google.colab import files\n",
        "files.upload()"
      ]
    },
    {
      "cell_type": "code",
      "execution_count": null,
      "metadata": {
        "id": "q2OtXu3lRVi5"
      },
      "outputs": [],
      "source": [
        "\n",
        "#Carga desde un archivo .csv sin indice y con decodificación. Ejemplos: 'ascii', 'UTF-8'\n",
        "df = pd.read_csv(\"cuentas_credicel.csv\", encoding= 'latin')\n",
        "df.head(10)"
      ]
    },
    {
      "cell_type": "code",
      "execution_count": null,
      "metadata": {
        "id": "9ye5zj0ZSScr"
      },
      "outputs": [],
      "source": [
        "\n",
        "#Corroboramos valores nulos\n",
        "valores_nulos=df.isnull().sum()\n",
        "valores_nulos\n"
      ]
    },
    {
      "cell_type": "code",
      "execution_count": null,
      "metadata": {
        "id": "qJZ69LvOTIuy"
      },
      "outputs": [],
      "source": [
        "df1=df.copy()"
      ]
    },
    {
      "cell_type": "code",
      "execution_count": null,
      "metadata": {
        "id": "_PR5dFAwTA5B"
      },
      "outputs": [],
      "source": [
        "#Quinto método de sustitución de valores nulos\n",
        "#Sustituir valores nulos por valores no nulos hacia adelante  \"forward fill\" (\"ffill\")\n",
        "#Filtro por columnas\n",
        "df1[\"empresa\"] =df1[\"empresa\"].fillna(method=\"ffill\")"
      ]
    },
    {
      "cell_type": "code",
      "execution_count": null,
      "metadata": {
        "id": "0oXHOzHuUZyU"
      },
      "outputs": [],
      "source": [
        "#Quinto método de sustitución de valores nulos\n",
        "#Sustituir valores nulos por valores no nulos hacia adelante  \"forward fill\" (\"ffill\")\n",
        "#Filtro por columnas\n",
        "df1[\"fecha_ultimo_pago\"] =df1[\"fecha_ultimo_pago\"].fillna(method=\"ffill\")"
      ]
    },
    {
      "cell_type": "code",
      "execution_count": null,
      "metadata": {
        "id": "xsCg75dwUmmc"
      },
      "outputs": [],
      "source": [
        "#Sexto método de sustitución de valores nulos\n",
        "#Sustituir valores nulos por valores no nulos hacia atrás backward fill\" (\"bfill\")\n",
        "#Filtro por columnas\n",
        "df1[\"fecha_ultimo_pago\"] =df1[\"fecha_ultimo_pago\"].fillna(method=\"bfill\")"
      ]
    },
    {
      "cell_type": "code",
      "execution_count": null,
      "metadata": {
        "id": "WAgx_TkxUwxl"
      },
      "outputs": [],
      "source": [
        "#Quinto método de sustitución de valores nulos\n",
        "#Sustituir valores nulos por valores no nulos hacia adelante  \"forward fill\" (\"ffill\")\n",
        "#Filtro por columnas\n",
        "df1[\"fecha_pago_proximo\"] =df1[\"fecha_pago_proximo\"].fillna(method=\"ffill\")"
      ]
    },
    {
      "cell_type": "code",
      "execution_count": null,
      "metadata": {
        "id": "iXbd7FrrU4Ed"
      },
      "outputs": [],
      "source": [
        "#Sexto método de sustitución de valores nulos\n",
        "#Sustituir valores nulos por valores no nulos hacia atrás backward fill\" (\"bfill\")\n",
        "#Filtro por columnas\n",
        "df1[\"fecha_pago_proximo\"] =df1[\"fecha_pago_proximo\"].fillna(method=\"bfill\")"
      ]
    },
    {
      "cell_type": "code",
      "execution_count": null,
      "metadata": {
        "id": "iSWbUX_mVXg3"
      },
      "outputs": [],
      "source": [
        "#Quinto método de sustitución de valores nulos\n",
        "#Sustituir valores nulos por valores no nulos hacia adelante  \"forward fill\" (\"ffill\")\n",
        "#Filtro por columnas\n",
        "df1[\"status_cuenta\"] =df1[\"status_cuenta\"].fillna(method=\"ffill\")"
      ]
    },
    {
      "cell_type": "code",
      "execution_count": null,
      "metadata": {
        "id": "A02gfDmqVcWb"
      },
      "outputs": [],
      "source": [
        "#Sexto método de sustitución de valores nulos\n",
        "#Sustituir valores nulos por valores no nulos hacia atrás backward fill\" (\"bfill\")\n",
        "#Filtro por columnas\n",
        "df1[\"status_cuenta\"] =df1[\"status_cuenta\"].fillna(method=\"bfill\")"
      ]
    },
    {
      "cell_type": "code",
      "execution_count": null,
      "metadata": {
        "id": "MwZXdgMwVj-n"
      },
      "outputs": [],
      "source": [
        "#Primer método de sustitución de valores nulos\n",
        "#Sustituir valores nulos con promedio o media\n",
        "df1[\"puntos\"]=df1[\"puntos\"].fillna(round(df[\"puntos\"].mean(),1))\n"
      ]
    },
    {
      "cell_type": "code",
      "execution_count": null,
      "metadata": {
        "id": "76ozcxyrV1by"
      },
      "outputs": [],
      "source": [
        "#Quinto método de sustitución de valores nulos\n",
        "#Sustituir valores nulos por valores no nulos hacia adelante  \"forward fill\" (\"ffill\")\n",
        "#Filtro por columnas\n",
        "df1[\"riesgo\"] =df1[\"riesgo\"].fillna(method=\"ffill\")"
      ]
    },
    {
      "cell_type": "code",
      "execution_count": null,
      "metadata": {
        "id": "bY10WGNxV8yp"
      },
      "outputs": [],
      "source": [
        "#Sexto método de sustitución de valores nulos\n",
        "#Sustituir valores nulos por valores no nulos hacia atrás backward fill\" (\"bfill\")\n",
        "#Filtro por columnas\n",
        "df1[\"riesgo\"] =df1[\"riesgo\"].fillna(method=\"bfill\")"
      ]
    },
    {
      "cell_type": "code",
      "execution_count": null,
      "metadata": {
        "id": "RbmYVVUnWGhQ"
      },
      "outputs": [],
      "source": [
        "#Primer método de sustitución de valores nulos\n",
        "#Sustituir valores nulos con promedio o media\n",
        "df1[\"porc_enganche\"]=df1[\"porc_enganche\"].fillna(round(df[\"porc_enganche\"].mean(),1))"
      ]
    },
    {
      "cell_type": "code",
      "execution_count": null,
      "metadata": {
        "id": "Sd10LSdoWTQF"
      },
      "outputs": [],
      "source": [
        "#Quinto método de sustitución de valores nulos\n",
        "#Sustituir valores nulos por valores no nulos hacia adelante  \"forward fill\" (\"ffill\")\n",
        "#Filtro por columnas\n",
        "df1[\"razones_buro\"] =df1[\"razones_buro\"].fillna(method=\"ffill\")"
      ]
    },
    {
      "cell_type": "code",
      "execution_count": null,
      "metadata": {
        "id": "tFd-SX8BWffN"
      },
      "outputs": [],
      "source": [
        "#Quinto método de sustitución de valores nulos\n",
        "#Sustituir valores nulos por valores no nulos hacia adelante  \"forward fill\" (\"ffill\")\n",
        "#Filtro por columnas\n",
        "df1[\"semana_actual\"] =df1[\"semana_actual\"].fillna(method=\"ffill\")"
      ]
    },
    {
      "cell_type": "code",
      "execution_count": null,
      "metadata": {
        "id": "OjKftQk5Wnxv"
      },
      "outputs": [],
      "source": [
        "#Quinto método de sustitución de valores nulos\n",
        "#Sustituir valores nulos por valores no nulos hacia adelante  \"forward fill\" (\"ffill\")\n",
        "#Filtro por columnas\n",
        "df1[\"codigo_postal\"] =df1[\"codigo_postal\"].fillna(method=\"ffill\")"
      ]
    },
    {
      "cell_type": "code",
      "execution_count": null,
      "metadata": {
        "id": "0kZs-1zDWyCj"
      },
      "outputs": [],
      "source": [
        "#Quinto método de sustitución de valores nulos\n",
        "#Sustituir valores nulos por valores no nulos hacia adelante  \"forward fill\" (\"ffill\")\n",
        "#Filtro por columnas\n",
        "df1[\"Unnamed: 33\"] =df1[\"Unnamed: 33\"].fillna(method=\"ffill\")"
      ]
    },
    {
      "cell_type": "code",
      "execution_count": null,
      "metadata": {
        "id": "UW2ZfucOW55p"
      },
      "outputs": [],
      "source": [
        "#Sexto método de sustitución de valores nulos\n",
        "#Sustituir valores nulos por valores no nulos hacia atrás backward fill\" (\"bfill\")\n",
        "#Filtro por columnas\n",
        "df1[\"Unnamed: 33\"] =df1[\"Unnamed: 33\"].fillna(method=\"bfill\")"
      ]
    },
    {
      "cell_type": "code",
      "execution_count": null,
      "metadata": {
        "id": "D8y6Ogd-W-q-"
      },
      "outputs": [],
      "source": [
        "#Quinto método de sustitución de valores nulos\n",
        "#Sustituir valores nulos por valores no nulos hacia adelante  \"forward fill\" (\"ffill\")\n",
        "#Filtro por columnas\n",
        "df1[\"Unnamed: 34\"] =df1[\"Unnamed: 34\"].fillna(method=\"ffill\")"
      ]
    },
    {
      "cell_type": "code",
      "execution_count": null,
      "metadata": {
        "id": "3Im6JowPXH-I"
      },
      "outputs": [],
      "source": [
        "#Sexto método de sustitución de valores nulos\n",
        "#Sustituir valores nulos por valores no nulos hacia atrás backward fill\" (\"bfill\")\n",
        "#Filtro por columnas\n",
        "df1[\"Unnamed: 34\"] =df1[\"Unnamed: 34\"].fillna(method=\"bfill\")"
      ]
    },
    {
      "cell_type": "code",
      "execution_count": null,
      "metadata": {
        "id": "1GCOfbyWXOIA"
      },
      "outputs": [],
      "source": [
        "#Primer método de sustitución de valores nulos\n",
        "#Sustituir valores nulos con promedio o media\n",
        "df1[\"Unnamed: 35\"]=df1[\"Unnamed: 35\"].fillna(round(df[\"Unnamed: 35\"].mean(),1))"
      ]
    },
    {
      "cell_type": "code",
      "execution_count": null,
      "metadata": {
        "id": "rSjtv9L-XYwq"
      },
      "outputs": [],
      "source": [
        "#Primer método de sustitución de valores nulos\n",
        "#Sustituir valores nulos con promedio o media\n",
        "df1[\"Unnamed: 36\"]=df1[\"Unnamed: 36\"].fillna(round(df[\"Unnamed: 36\"].mean(),1))"
      ]
    },
    {
      "cell_type": "code",
      "execution_count": null,
      "metadata": {
        "id": "fU3ZGJi8UT9c"
      },
      "outputs": [],
      "source": [
        "#Corroboramos valores nulos\n",
        "valores_nulos=df1.isnull().sum()\n",
        "valores_nulos\n",
        "\n"
      ]
    },
    {
      "cell_type": "code",
      "execution_count": null,
      "metadata": {
        "id": "r_vPDvrvSssH"
      },
      "outputs": [],
      "source": [
        "df1.info()"
      ]
    },
    {
      "cell_type": "markdown",
      "metadata": {
        "id": "e8Xhd7PKeE_i"
      },
      "source": [
        "**Convertir columna plazo a entero, quitando el carácter \"S\"**\n",
        "\n"
      ]
    },
    {
      "cell_type": "code",
      "execution_count": null,
      "metadata": {
        "id": "X_Wr1GfNeaq_"
      },
      "outputs": [],
      "source": [
        "#Eliminar un signo de una columna\n",
        "df1['plazo']=df1['plazo'].str.replace('S', '')"
      ]
    },
    {
      "cell_type": "code",
      "execution_count": null,
      "metadata": {
        "id": "eXn0H_13dcWH"
      },
      "outputs": [],
      "source": [
        "#Conversión de tipo de dato de columna de tipo Object a int\n",
        "df1['plazo']= df1['plazo'].astype(int)\n"
      ]
    },
    {
      "cell_type": "code",
      "execution_count": null,
      "metadata": {
        "id": "O9uahXbxeg-E"
      },
      "outputs": [],
      "source": [
        "#Compruebo que la columna plazo ya se halla convertido a tipo numérico\n",
        "df1.info()"
      ]
    },
    {
      "cell_type": "markdown",
      "metadata": {
        "id": "tSnPuxhEe-xm"
      },
      "source": [
        "**Convertir columna riesgo a entero, quitando los carácteres existentes**"
      ]
    },
    {
      "cell_type": "code",
      "execution_count": null,
      "metadata": {
        "id": "lheeMfb9fI4c"
      },
      "outputs": [],
      "source": [
        "#Sustituyo valores nulos por el numero \"0\"\n",
        "#Tercer método de sustitución de valores nulos\n",
        "#Sustituir valores nulos por un valor numérico en  concreto\n",
        "df1[\"riesgo\"]= df1[\"riesgo\"].fillna(0)"
      ]
    },
    {
      "cell_type": "code",
      "execution_count": null,
      "metadata": {
        "id": "FHa9-ORzfOBz"
      },
      "outputs": [],
      "source": [
        "#Analizar categorias de una columna\n",
        "riesgo_categorias = df1.groupby(['riesgo'])['riesgo'].count()\n",
        "riesgo_categorias"
      ]
    },
    {
      "cell_type": "code",
      "execution_count": null,
      "metadata": {
        "id": "Y9Nc2AI7fTtu"
      },
      "outputs": [],
      "source": [
        "#Sustituyo los strings Atraso, Cancelado y Fraude por la constante \"0\"\n",
        "df1['riesgo']=df1['riesgo'].str.replace('Atraso', '0')\n",
        "df1['riesgo']=df1['riesgo'].str.replace('Cancelado', '0')\n",
        "df1['riesgo']=df1['riesgo'].str.replace('Fraude', '0')"
      ]
    },
    {
      "cell_type": "code",
      "execution_count": null,
      "metadata": {
        "id": "CBPHyWFYfWky"
      },
      "outputs": [],
      "source": [
        "#Conversión de tipo de dato de columna de tipo Object a int\n",
        "df1['riesgo']= df1['riesgo'].astype(float)"
      ]
    },
    {
      "cell_type": "code",
      "execution_count": null,
      "metadata": {
        "id": "_Tu64evyfnLm"
      },
      "outputs": [],
      "source": [
        "#Compruebo que la columna riesgo ya se halla convertido a tipo numérico\n",
        "df1.info()"
      ]
    },
    {
      "cell_type": "code",
      "execution_count": null,
      "metadata": {
        "id": "-YdKK0eXfzf4"
      },
      "outputs": [],
      "source": [
        "#Corroboramos valores nulos\n",
        "valores_nulos=df1.isnull().sum()\n",
        "valores_nulos"
      ]
    },
    {
      "cell_type": "code",
      "execution_count": null,
      "metadata": {
        "id": "tNjQ-F_sf4lC"
      },
      "outputs": [],
      "source": [
        "#Primer método de sustitución de valores nulos\n",
        "#Sustituir valores nulos con promedio o media\n",
        "#df1[\"riesgo\"]=df1[\"riesgo\"].fillna(round(df[\"riesgo\"].mean(),1))\n",
        "df1[\"riesgo\"]=df1[\"riesgo\"].fillna(method=\"ffill\")"
      ]
    },
    {
      "cell_type": "code",
      "execution_count": null,
      "metadata": {
        "id": "IzAzH0LGgKGx"
      },
      "outputs": [],
      "source": [
        "#Corroboramos valores nulos\n",
        "valores_nulos=df1.isnull().sum()\n",
        "valores_nulos"
      ]
    },
    {
      "cell_type": "code",
      "execution_count": null,
      "metadata": {
        "id": "Zxvpl_TOYDcc"
      },
      "outputs": [],
      "source": [
        "#Filtro para obtener variables cuantitativas\n",
        "Cuantitativas=df1.iloc[ : , [0,2,6,7,8,9,10,11,12,13,16,17,19,20,21,25,26,27,28,29,35,36]]\n",
        "Cuantitativas"
      ]
    },
    {
      "cell_type": "code",
      "execution_count": null,
      "metadata": {
        "id": "HZimA9qQZeBA"
      },
      "outputs": [],
      "source": [
        "#Filtro para obtener variables cualitativas\n",
        "Cualitativas=df1.iloc[ : , [1,3,4,5,14,15,18,22,23,24,30,31,32,33,34]]\n",
        "Cualitativas"
      ]
    },
    {
      "cell_type": "markdown",
      "metadata": {
        "id": "gTmn6cu5aLBt"
      },
      "source": [
        "**PROCEDIMIENTO \"DESVIACIÓN ESTÁNDAR\" PARA ELIMINAR OUTLIERS EN DATAFRAME**"
      ]
    },
    {
      "cell_type": "code",
      "execution_count": null,
      "metadata": {
        "id": "7lvS94zpaJ4I"
      },
      "outputs": [],
      "source": [
        "#Método aplicando desviación estandar. Encuentro los valores extremos\n",
        "y=Cuantitativas\n",
        "Limite_Superior= y.mean() + 3*y.std()\n",
        "Limite_Inferior= y.mean() - 3*y.std()\n",
        "print(\"Limite superior permitido\", Limite_Superior)\n",
        "print(\"Limite inferior permitido\", Limite_Inferior)\n"
      ]
    },
    {
      "cell_type": "code",
      "execution_count": null,
      "metadata": {
        "id": "ZkgLr109aSiP"
      },
      "outputs": [],
      "source": [
        "# Ajustar maximo de filas\n",
        "pd.options.display.max_rows = None"
      ]
    },
    {
      "cell_type": "code",
      "execution_count": null,
      "metadata": {
        "id": "A2TaDshiaW6n"
      },
      "outputs": [],
      "source": [
        "#Obtenemos datos y los outliers se convierten en nulos en el DataFrame\n",
        "Datos_sin_Outliers= Cuantitativas[(y<=Limite_Superior)&(y>=Limite_Inferior)]\n",
        "Datos_sin_Outliers"
      ]
    },
    {
      "cell_type": "code",
      "execution_count": null,
      "metadata": {
        "id": "_YzGYzFPb4Tf"
      },
      "outputs": [],
      "source": [
        "#Corroboramos valores nulos\n",
        "valores_nulos=Datos_sin_Outliers.isnull().sum()\n",
        "valores_nulos"
      ]
    },
    {
      "cell_type": "code",
      "execution_count": null,
      "metadata": {
        "id": "NE55MnE1cQsD"
      },
      "outputs": [],
      "source": [
        "#Reemplazamos valores atípicos (nulos) del dataframe con \"mean\"\n",
        "#Realizamos una copia del dataframe\n",
        "data_clean=Datos_sin_Outliers.copy()\n",
        "data_clean=data_clean.fillna(round(Datos_sin_Outliers.mean(),1))\n",
        "data_clean"
      ]
    },
    {
      "cell_type": "code",
      "execution_count": null,
      "metadata": {
        "id": "4iQ4D8V6cu2s"
      },
      "outputs": [],
      "source": [
        "#Corroboramos valores nulos\n",
        "valores_nulos=data_clean.isnull().sum()\n",
        "valores_nulos\n"
      ]
    },
    {
      "cell_type": "markdown",
      "metadata": {
        "id": "07oDvZxfY_PB"
      },
      "source": [
        "**Análisis de correlación"
      ]
    },
    {
      "cell_type": "markdown",
      "metadata": {
        "id": "JVZunQdjdw8p"
      },
      "source": [
        "“Enganche”"
      ]
    },
    {
      "cell_type": "code",
      "execution_count": null,
      "metadata": {
        "id": "N8L6baU6bI2p"
      },
      "outputs": [],
      "source": [
        "#Imprimimos el scatter plot entre la variable dependiente (total) e independiente (alchool)\n",
        "#para observar el comportamiento en su dispersión\n",
        "from turtle import color\n",
        "sns.scatterplot(x='porc_enganche', y='enganche', color=\"blue\", data=Cuantitativas)\n",
        "sns.scatterplot(x='score_buro', y='enganche', color=\"red\", data=Cuantitativas)\n",
        "\n"
      ]
    },
    {
      "cell_type": "code",
      "execution_count": null,
      "metadata": {
        "id": "MQhly-18aCN9"
      },
      "outputs": [],
      "source": [
        "#Declaramos las variables dependientes e independientes para la regresión lineal\n",
        "#Vars_Indep= df[['alcohol', 'speeding']]\n",
        "Vars_Indep= Cuantitativas[['score_buro']]\n",
        "Var_Dep= Cuantitativas['enganche']"
      ]
    },
    {
      "cell_type": "code",
      "execution_count": null,
      "metadata": {
        "id": "WnMqK2g9aCLE"
      },
      "outputs": [],
      "source": [
        "#Se define model como la función de regresión lineal\n",
        "from sklearn.linear_model import LinearRegression\n",
        "model1= LinearRegression()"
      ]
    },
    {
      "cell_type": "code",
      "execution_count": null,
      "metadata": {
        "id": "UYgdjxcCaYva"
      },
      "outputs": [],
      "source": [
        "#Ajustamos el modelo con las variables antes declaradas\n",
        "model1.fit(X=Vars_Indep, y=Var_Dep)"
      ]
    },
    {
      "cell_type": "code",
      "execution_count": null,
      "metadata": {
        "id": "OQ0OPNWkaccW"
      },
      "outputs": [],
      "source": [
        "#Verificamos los coeficientes obtenidos para el modelo ajustado\n",
        "model1.__dict__"
      ]
    },
    {
      "cell_type": "markdown",
      "metadata": {
        "id": "Gynby1miagLM"
      },
      "source": [
        "Modelo matemático: y= 8.30362837x + 928.5596445591957"
      ]
    },
    {
      "cell_type": "code",
      "execution_count": null,
      "metadata": {
        "id": "b8gA69ySaxpr"
      },
      "outputs": [],
      "source": [
        "#Predecimos los valores de total de accidentes a partir de la variable \"alcohol\"\n",
        "#y_pred= model.predict(X=df[['alcohol', 'speeding']])\n",
        "y_pred= model1.predict(X=Cuantitativas[['score_buro']])\n",
        "y_pred"
      ]
    },
    {
      "cell_type": "code",
      "execution_count": null,
      "metadata": {
        "id": "UV4_laQKbFth"
      },
      "outputs": [],
      "source": [
        "#Insertamos la columna de predicciones en el DataFrame\n",
        "Cuantitativas.insert(0, 'Prediccion', y_pred)\n",
        "Cuantitativas"
      ]
    },
    {
      "cell_type": "code",
      "execution_count": null,
      "metadata": {
        "id": "pQIin1zwb4gz"
      },
      "outputs": [],
      "source": [
        "#Visualizamos la gráfica comparativa entre el total real y el total predecido\n",
        "\n",
        "sns.scatterplot(x='score_buro', y='enganche', color=\"blue\", data=Cuantitativas)\n",
        "sns.scatterplot(x='score_buro', y='Prediccion', color=\"red\", data=Cuantitativas)\n",
        "#sns.lineplot(x='alcohol', y='Predicciones', color=\"red\", data=df)"
      ]
    },
    {
      "cell_type": "code",
      "execution_count": null,
      "metadata": {
        "id": "67kzBr0RdMxk"
      },
      "outputs": [],
      "source": [
        "#Corroboramos cual es el coeficiente de Determinación de nuestro modelo\n",
        "coef_Deter=model1.score(X=Vars_Indep, y=Var_Dep)\n",
        "coef_Deter"
      ]
    },
    {
      "cell_type": "code",
      "execution_count": null,
      "metadata": {
        "id": "rxMB471ggWlZ"
      },
      "outputs": [],
      "source": [
        "#Corroboramos cual es el coeficiente de Correlación de nuestro modelo\n",
        "coef_Correl=np.sqrt(coef_Deter)\n",
        "coef_Correl"
      ]
    },
    {
      "cell_type": "markdown",
      "metadata": {
        "id": "lkpIr87egalK"
      },
      "source": [
        "“Riesgo”"
      ]
    },
    {
      "cell_type": "code",
      "execution_count": null,
      "metadata": {
        "id": "yQ_Bxi4rgwHh"
      },
      "outputs": [],
      "source": [
        "#Imprimimos el scatter plot entre la variable dependiente (total) e independiente (alchool)\n",
        "#para observar el comportamiento en su dispersión\n",
        "from turtle import color\n",
        "sns.scatterplot(x='descuento', y='riesgo', color=\"blue\", data=Cuantitativas)\n",
        "sns.scatterplot(x='precio', y='riesgo', color=\"red\", data=Cuantitativas)\n"
      ]
    },
    {
      "cell_type": "code",
      "execution_count": null,
      "metadata": {
        "id": "eN6lLO-oha0S"
      },
      "outputs": [],
      "source": [
        "#Declaramos las variables dependientes e independientes para la regresión lineal\n",
        "#Vars_Indep= df[['alcohol', 'speeding']]\n",
        "Vars_Indep1= Cuantitativas[['descuento']]\n",
        "Var_Dep1= Cuantitativas['riesgo']"
      ]
    },
    {
      "cell_type": "code",
      "execution_count": null,
      "metadata": {
        "id": "dyAHbpgUhqQi"
      },
      "outputs": [],
      "source": [
        "#Se define model como la función de regresión lineal\n",
        "from sklearn.linear_model import LinearRegression\n",
        "model2= LinearRegression()"
      ]
    },
    {
      "cell_type": "code",
      "execution_count": null,
      "metadata": {
        "id": "xS4z9SM5hu80"
      },
      "outputs": [],
      "source": [
        "#Ajustamos el modelo con las variables antes declaradas\n",
        "model2.fit(X=Vars_Indep1, y=Var_Dep1)"
      ]
    },
    {
      "cell_type": "code",
      "execution_count": null,
      "metadata": {
        "id": "3apm61Rl5EPf"
      },
      "outputs": [],
      "source": [
        "#Verificamos los coeficientes obtenidos para el modelo ajustado\n",
        "model2.__dict__"
      ]
    },
    {
      "cell_type": "markdown",
      "metadata": {
        "id": "_cPyxeDd5MCJ"
      },
      "source": [
        "Modelo matemático: y= 0.0092446x + 7.063387975837218"
      ]
    },
    {
      "cell_type": "code",
      "execution_count": null,
      "metadata": {
        "id": "IoQr6IXf5DrN"
      },
      "outputs": [],
      "source": [
        "#Predecimos los valores de total de accidentes a partir de la variable \"alcohol\"\n",
        "#y_pred= model.predict(X=df[['alcohol', 'speeding']])\n",
        "y_pred2= model2.predict(X=Cuantitativas[['descuento']])\n",
        "y_pred2"
      ]
    },
    {
      "cell_type": "code",
      "execution_count": null,
      "metadata": {
        "id": "N0m3mQiM6Fsy"
      },
      "outputs": [],
      "source": [
        "#Insertamos la columna de predicciones en el DataFrame\n",
        "Cuantitativas.insert(0, 'Predicciones2', y_pred2)\n",
        "Cuantitativas"
      ]
    },
    {
      "cell_type": "code",
      "execution_count": null,
      "metadata": {
        "id": "MJr0eHnT6dWU"
      },
      "outputs": [],
      "source": [
        "#Visualizamos la gráfica comparativa entre el total real y el total predecido\n",
        "\n",
        "sns.scatterplot(x='descuento', y='riesgo', color=\"blue\", data=Cuantitativas)\n",
        "sns.scatterplot(x='descuento', y='Predicciones2', color=\"red\", data=Cuantitativas)\n",
        "#sns.lineplot(x='alcohol', y='Predicciones', color=\"red\", data=df)"
      ]
    },
    {
      "cell_type": "code",
      "execution_count": null,
      "metadata": {
        "id": "IuSBTkB27DhC"
      },
      "outputs": [],
      "source": [
        "#Corroboramos cual es el coeficiente de Determinación de nuestro modelo\n",
        "coef_Deter2=model2.score(X=Vars_Indep1, y=Var_Dep1)\n",
        "coef_Deter2"
      ]
    },
    {
      "cell_type": "code",
      "execution_count": null,
      "metadata": {
        "id": "P3kOUDjr7azd"
      },
      "outputs": [],
      "source": [
        "#Corroboramos cual es el coeficiente de Correlación de nuestro modelo\n",
        "coef_Correl2=np.sqrt(coef_Deter2)\n",
        "coef_Correl2"
      ]
    },
    {
      "cell_type": "markdown",
      "metadata": {
        "id": "1GGsxjja7nZ3"
      },
      "source": [
        "“Precio”"
      ]
    },
    {
      "cell_type": "code",
      "execution_count": null,
      "metadata": {
        "id": "ZSYBE1LeXvGT"
      },
      "outputs": [],
      "source": [
        "#Imprimimos el scatter plot entre la variable dependiente (total) e independiente (alchool)\n",
        "#para observar el comportamiento en su dispersión\n",
        "from turtle import color\n",
        "sns.scatterplot(x='descuento', y='precio', color=\"blue\", data=Cuantitativas)\n",
        "sns.scatterplot(x='monto_financiado', y='precio', color=\"red\", data=Cuantitativas)"
      ]
    },
    {
      "cell_type": "code",
      "execution_count": null,
      "metadata": {
        "id": "I1W4vfXrHYGd"
      },
      "outputs": [],
      "source": [
        "#Declaramos las variables dependientes e independientes para la regresión lineal\n",
        "#Vars_Indep= df[['alcohol', 'speeding']]\n",
        "Vars_Indep2= Cuantitativas[['monto_financiado']]\n",
        "Var_Dep2= Cuantitativas['precio']"
      ]
    },
    {
      "cell_type": "code",
      "execution_count": null,
      "metadata": {
        "id": "tmCAUEEpKvM8"
      },
      "outputs": [],
      "source": [
        "#Se define model como la función de regresión lineal\n",
        "from sklearn.linear_model import LinearRegression\n",
        "model3= LinearRegression()"
      ]
    },
    {
      "cell_type": "code",
      "execution_count": null,
      "metadata": {
        "id": "1Y3ou_wnLBjJ"
      },
      "outputs": [],
      "source": [
        "#Ajustamos el modelo con las variables antes declaradas\n",
        "model3.fit(X=Vars_Indep2, y=Var_Dep2)"
      ]
    },
    {
      "cell_type": "code",
      "execution_count": null,
      "metadata": {
        "id": "jJTzNB9zNy_o"
      },
      "outputs": [],
      "source": [
        "#Verificamos los coeficientes obtenidos para el modelo ajustado\n",
        "model3.__dict__"
      ]
    },
    {
      "cell_type": "markdown",
      "metadata": {
        "id": "8tz28iQ0OK0p"
      },
      "source": [
        "Modelo matemático: y= 1.17573073x + 380.32825850329664"
      ]
    },
    {
      "cell_type": "code",
      "execution_count": null,
      "metadata": {
        "id": "iyPJX-PKOxPl"
      },
      "outputs": [],
      "source": [
        "#Predecimos los valores de total de accidentes a partir de la variable \"alcohol\"\n",
        "#y_pred= model.predict(X=df[['alcohol', 'speeding']])\n",
        "y_pred3= model3.predict(X=Cuantitativas[['monto_financiado']])\n",
        "y_pred3"
      ]
    },
    {
      "cell_type": "code",
      "execution_count": null,
      "metadata": {
        "id": "AZRWSfC2P5yv"
      },
      "outputs": [],
      "source": [
        "#Insertamos la columna de predicciones en el DataFrame\n",
        "Cuantitativas.insert(0, 'Predicciones3', y_pred3)\n",
        "Cuantitativas"
      ]
    },
    {
      "cell_type": "code",
      "execution_count": null,
      "metadata": {
        "id": "Hr1raHFobzIn"
      },
      "outputs": [],
      "source": [
        "#Visualizamos la gráfica comparativa entre el total real y el total predecido\n",
        "\n",
        "sns.scatterplot(x='monto_financiado', y='precio', color=\"blue\", data=Cuantitativas)\n",
        "sns.scatterplot(x='monto_financiado', y='Predicciones3', color=\"red\", data=Cuantitativas)\n",
        "#sns.lineplot(x='alcohol', y='Predicciones', color=\"red\", data=df)"
      ]
    },
    {
      "cell_type": "code",
      "execution_count": null,
      "metadata": {
        "id": "hX1KO2X4b8BW"
      },
      "outputs": [],
      "source": [
        "#Corroboramos cual es el coeficiente de Determinación de nuestro modelo\n",
        "coef_Deter3=model3.score(X=Vars_Indep2, y=Var_Dep2)\n",
        "coef_Deter3"
      ]
    },
    {
      "cell_type": "code",
      "execution_count": null,
      "metadata": {
        "id": "CnKYbI1IcFhA"
      },
      "outputs": [],
      "source": [
        "#Corroboramos cual es el coeficiente de Correlación de nuestro modelo\n",
        "coef_Correl3=np.sqrt(coef_Deter3)\n",
        "coef_Correl3"
      ]
    },
    {
      "cell_type": "markdown",
      "metadata": {
        "id": "MkzT1Bx5ckgS"
      },
      "source": [
        "\n",
        "“Plazo”"
      ]
    },
    {
      "cell_type": "code",
      "execution_count": null,
      "metadata": {
        "id": "3epY0NRAcWbC"
      },
      "outputs": [],
      "source": [
        "#Imprimimos el scatter plot entre la variable dependiente (total) e independiente (alchool)\n",
        "#para observar el comportamiento en su dispersión\n",
        "from turtle import color\n",
        "sns.scatterplot(x='descuento', y='plazo', color=\"blue\", data=Cuantitativas)\n",
        "sns.scatterplot(x='porc_enganche', y='plazo', color=\"red\", data=Cuantitativas)"
      ]
    },
    {
      "cell_type": "code",
      "execution_count": null,
      "metadata": {
        "id": "VoncFvDMdky0"
      },
      "outputs": [],
      "source": [
        "#Declaramos las variables dependientes e independientes para la regresión lineal\n",
        "#Vars_Indep= df[['alcohol', 'speeding']]\n",
        "Vars_Indep3= Cuantitativas[['porc_enganche']]\n",
        "Var_Dep3= Cuantitativas['plazo']"
      ]
    },
    {
      "cell_type": "code",
      "execution_count": null,
      "metadata": {
        "id": "ss_iAOr8dwRi"
      },
      "outputs": [],
      "source": [
        "#Se define model como la función de regresión lineal\n",
        "from sklearn.linear_model import LinearRegression\n",
        "model4= LinearRegression()"
      ]
    },
    {
      "cell_type": "code",
      "execution_count": null,
      "metadata": {
        "id": "ExAG9Qm_d2Zo"
      },
      "outputs": [],
      "source": [
        "#Ajustamos el modelo con las variables antes declaradas\n",
        "model4.fit(X=Vars_Indep3, y=Var_Dep3)"
      ]
    },
    {
      "cell_type": "code",
      "execution_count": null,
      "metadata": {
        "id": "Wfctxjpjd9U2"
      },
      "outputs": [],
      "source": [
        "#Verificamos los coeficientes obtenidos para el modelo ajustado\n",
        "model4.__dict__"
      ]
    },
    {
      "cell_type": "markdown",
      "metadata": {
        "id": "Kp7teBmReP9O"
      },
      "source": [
        "Modelo matemático: y= -0.07611609x + 25.97819788407601"
      ]
    },
    {
      "cell_type": "code",
      "execution_count": null,
      "metadata": {
        "id": "E2RtrusCeDH4"
      },
      "outputs": [],
      "source": [
        "#Predecimos los valores de total de accidentes a partir de la variable \"alcohol\"\n",
        "#y_pred= model.predict(X=df[['alcohol', 'speeding']])\n",
        "y_pred4= model4.predict(X=Cuantitativas[['porc_enganche']])\n",
        "y_pred4"
      ]
    },
    {
      "cell_type": "code",
      "execution_count": null,
      "metadata": {
        "id": "vhtEYdQfenBf"
      },
      "outputs": [],
      "source": [
        "#Insertamos la columna de predicciones en el DataFrame\n",
        "Cuantitativas.insert(0, 'Predicciones4', y_pred4)\n",
        "Cuantitativas"
      ]
    },
    {
      "cell_type": "code",
      "execution_count": null,
      "metadata": {
        "id": "zwSLp7AUe54V"
      },
      "outputs": [],
      "source": [
        "#Visualizamos la gráfica comparativa entre el total real y el total predecido\n",
        "\n",
        "sns.scatterplot(x='porc_enganche', y='plazo', color=\"blue\", data=Cuantitativas)\n",
        "sns.scatterplot(x='porc_enganche', y='Predicciones4', color=\"red\", data=Cuantitativas)\n",
        "#sns.lineplot(x='alcohol', y='Predicciones', color=\"red\", data=df)"
      ]
    },
    {
      "cell_type": "code",
      "execution_count": null,
      "metadata": {
        "id": "cScKg01OgvRu"
      },
      "outputs": [],
      "source": [
        "#Corroboramos cual es el coeficiente de Determinación de nuestro modelo\n",
        "coef_Deter4=model4.score(X=Vars_Indep3, y=Var_Dep3)\n",
        "coef_Deter4"
      ]
    },
    {
      "cell_type": "code",
      "execution_count": null,
      "metadata": {
        "id": "Ve0A4vhGg6Is"
      },
      "outputs": [],
      "source": [
        "#Corroboramos cual es el coeficiente de Correlación de nuestro modelo\n",
        "coef_Correl4=np.sqrt(coef_Deter4)\n",
        "coef_Correl4"
      ]
    },
    {
      "cell_type": "markdown",
      "metadata": {
        "id": "Rh8Nv1euhAM3"
      },
      "source": [
        "“Costo total ”"
      ]
    },
    {
      "cell_type": "code",
      "execution_count": null,
      "metadata": {
        "id": "WQMSZm8BhGU1"
      },
      "outputs": [],
      "source": [
        "#Imprimimos el scatter plot entre la variable dependiente (total) e independiente (alchool)\n",
        "#para observar el comportamiento en su dispersión\n",
        "from turtle import color\n",
        "sns.scatterplot(x='monto_accesorios', y='costo_total', color=\"blue\", data=Cuantitativas)\n",
        "sns.scatterplot(x='enganche', y='costo_total', color=\"red\", data=Cuantitativas)"
      ]
    },
    {
      "cell_type": "code",
      "execution_count": null,
      "metadata": {
        "id": "cUHeWV-phv58"
      },
      "outputs": [],
      "source": [
        "#Declaramos las variables dependientes e independientes para la regresión lineal\n",
        "#Vars_Indep= df[['alcohol', 'speeding']]\n",
        "Vars_Indep4= Cuantitativas[['monto_accesorios']]\n",
        "Var_Dep4= Cuantitativas['costo_total']"
      ]
    },
    {
      "cell_type": "code",
      "execution_count": null,
      "metadata": {
        "id": "oSTtHk7ch7Dy"
      },
      "outputs": [],
      "source": [
        "#Se define model como la función de regresión lineal\n",
        "from sklearn.linear_model import LinearRegression\n",
        "model5= LinearRegression()"
      ]
    },
    {
      "cell_type": "code",
      "execution_count": null,
      "metadata": {
        "id": "cHJw111ph-6F"
      },
      "outputs": [],
      "source": [
        "#Ajustamos el modelo con las variables antes declaradas\n",
        "model5.fit(X=Vars_Indep4, y=Var_Dep4)"
      ]
    },
    {
      "cell_type": "code",
      "execution_count": null,
      "metadata": {
        "id": "zqP2FaCaiHWb"
      },
      "outputs": [],
      "source": [
        "#Verificamos los coeficientes obtenidos para el modelo ajustado\n",
        "model5.__dict__"
      ]
    },
    {
      "cell_type": "markdown",
      "metadata": {
        "id": "uiBl4--tiZht"
      },
      "source": [
        "Modelo matemático: y= 2.5403712x + 5665.489355660351"
      ]
    },
    {
      "cell_type": "code",
      "execution_count": null,
      "metadata": {
        "id": "OmYRxzoAiMxQ"
      },
      "outputs": [],
      "source": [
        "#Predecimos los valores de total de accidentes a partir de la variable \"alcohol\"\n",
        "#y_pred= model.predict(X=df[['alcohol', 'speeding']])\n",
        "y_pred5= model5.predict(X=Cuantitativas[['monto_accesorios']])\n",
        "y_pred5"
      ]
    },
    {
      "cell_type": "code",
      "execution_count": null,
      "metadata": {
        "id": "yMPUq0sJilSw"
      },
      "outputs": [],
      "source": [
        "#Insertamos la columna de predicciones en el DataFrame\n",
        "Cuantitativas.insert(0, 'Predicciones5', y_pred5)\n",
        "Cuantitativas"
      ]
    },
    {
      "cell_type": "code",
      "execution_count": null,
      "metadata": {
        "id": "EqLnhNQHkPMV"
      },
      "outputs": [],
      "source": [
        "#Visualizamos la gráfica comparativa entre el total real y el total predecido\n",
        "sns.scatterplot(x='monto_accesorios', y='costo_total', color=\"blue\", data=Cuantitativas)\n",
        "sns.scatterplot(x='monto_accesorios', y='Predicciones5', color=\"red\", data=Cuantitativas)\n",
        "#sns.lineplot(x='alcohol', y='Predicciones', color=\"red\", data=df)"
      ]
    },
    {
      "cell_type": "code",
      "execution_count": null,
      "metadata": {
        "id": "ZIY_r0aEpTy4"
      },
      "outputs": [],
      "source": [
        "#Corroboramos cual es el coeficiente de Determinación de nuestro modelo\n",
        "coef_Deter5=model5.score(X=Vars_Indep4, y=Var_Dep4)\n",
        "coef_Deter5"
      ]
    },
    {
      "cell_type": "code",
      "execution_count": null,
      "metadata": {
        "id": "k2hkfN1LpbT8"
      },
      "outputs": [],
      "source": [
        "#Corroboramos cual es el coeficiente de Correlación de nuestro modelo\n",
        "coef_Correl5=np.sqrt(coef_Deter5)\n",
        "coef_Correl5"
      ]
    },
    {
      "cell_type": "markdown",
      "metadata": {
        "id": "rnnS7uK8pnbb"
      },
      "source": [
        "“Monto_financiado”"
      ]
    },
    {
      "cell_type": "code",
      "execution_count": null,
      "metadata": {
        "id": "9huz6ZNUpq79"
      },
      "outputs": [],
      "source": [
        "#Imprimimos el scatter plot entre la variable dependiente (total) e independiente (alchool)\n",
        "#para observar el comportamiento en su dispersión\n",
        "from turtle import color\n",
        "sns.scatterplot(x='inversion', y='monto_financiado', color=\"blue\", data=Cuantitativas)\n",
        "sns.scatterplot(x='porc_tasa', y='monto_financiado', color=\"red\", data=Cuantitativas)"
      ]
    },
    {
      "cell_type": "code",
      "execution_count": null,
      "metadata": {
        "id": "pz8ME-vErHxC"
      },
      "outputs": [],
      "source": [
        "#Declaramos las variables dependientes e independientes para la regresión lineal\n",
        "#Vars_Indep= df[['alcohol', 'speeding']]\n",
        "Vars_Indep5= Cuantitativas[['porc_tasa']]\n",
        "Var_Dep5= Cuantitativas['monto_financiado']"
      ]
    },
    {
      "cell_type": "code",
      "execution_count": null,
      "metadata": {
        "id": "FYgNSb__rQ3Y"
      },
      "outputs": [],
      "source": [
        "#Se define model como la función de regresión lineal\n",
        "from sklearn.linear_model import LinearRegression\n",
        "model6= LinearRegression()"
      ]
    },
    {
      "cell_type": "code",
      "execution_count": null,
      "metadata": {
        "id": "UhhhmbVRrW0p"
      },
      "outputs": [],
      "source": [
        "#Ajustamos el modelo con las variables antes declaradas\n",
        "model6.fit(X=Vars_Indep5, y=Var_Dep5)"
      ]
    },
    {
      "cell_type": "code",
      "execution_count": null,
      "metadata": {
        "id": "yRN1GOpCreL0"
      },
      "outputs": [],
      "source": [
        "#Verificamos los coeficientes obtenidos para el modelo ajustado\n",
        "model6.__dict__"
      ]
    },
    {
      "cell_type": "markdown",
      "metadata": {
        "id": "FvfKXkH8rpXK"
      },
      "source": [
        "Modelo matemático: y= -5.3397735x + 3084.211509627098"
      ]
    },
    {
      "cell_type": "code",
      "execution_count": null,
      "metadata": {
        "id": "3AsPaq4Drhvx"
      },
      "outputs": [],
      "source": [
        "#Predecimos los valores de total de accidentes a partir de la variable \"alcohol\"\n",
        "#y_pred= model.predict(X=df[['alcohol', 'speeding']])\n",
        "y_pred6= model6.predict(X=Cuantitativas[['porc_tasa']])\n",
        "y_pred6"
      ]
    },
    {
      "cell_type": "code",
      "execution_count": null,
      "metadata": {
        "id": "IlTqDFjGrzru"
      },
      "outputs": [],
      "source": [
        "#Insertamos la columna de predicciones en el DataFrame\n",
        "Cuantitativas.insert(0, 'Predicciones6', y_pred6)\n",
        "Cuantitativas"
      ]
    },
    {
      "cell_type": "code",
      "execution_count": null,
      "metadata": {
        "id": "IXvrz_IBtyZx"
      },
      "outputs": [],
      "source": [
        "#Visualizamos la gráfica comparativa entre el total real y el total predecido\n",
        "\n",
        "sns.scatterplot(x='porc_tasa', y='monto_financiado', color=\"blue\", data=Cuantitativas)\n",
        "sns.scatterplot(x='porc_tasa', y='Predicciones6', color=\"red\", data=Cuantitativas)\n",
        "#sns.lineplot(x='alcohol', y='Predicciones', color=\"red\", data=df)"
      ]
    },
    {
      "cell_type": "code",
      "execution_count": null,
      "metadata": {
        "id": "oPNyQsQavbnb"
      },
      "outputs": [],
      "source": [
        "#Corroboramos cual es el coeficiente de Determinación de nuestro modelo\n",
        "coef_Deter6=model6.score(X=Vars_Indep5, y=Var_Dep5)\n",
        "coef_Deter6"
      ]
    },
    {
      "cell_type": "code",
      "execution_count": null,
      "metadata": {
        "id": "NIgED7LixTUZ"
      },
      "outputs": [],
      "source": [
        "#Corroboramos cual es el coeficiente de Correlación de nuestro modelo\n",
        "coef_Correl6=np.sqrt(coef_Deter6)\n",
        "coef_Correl6"
      ]
    },
    {
      "cell_type": "markdown",
      "metadata": {
        "id": "HsOHzTxP0Zsr"
      },
      "source": [
        "“Pagos_realizados”"
      ]
    },
    {
      "cell_type": "code",
      "execution_count": null,
      "metadata": {
        "id": "S-rvzpDJ1JlM"
      },
      "outputs": [],
      "source": [
        "#Imprimimos el scatter plot entre la variable dependiente (total) e independiente (alchool)\n",
        "#para observar el comportamiento en su dispersión\n",
        "from turtle import color\n",
        "sns.scatterplot(x='semana', y='pagos_realizados', color=\"blue\", data=Cuantitativas)\n",
        "sns.scatterplot(x='status', y='pagos_realizados', color=\"red\", data=Cuantitativas)"
      ]
    },
    {
      "cell_type": "code",
      "execution_count": null,
      "metadata": {
        "id": "qpYIE4KY3nlC"
      },
      "outputs": [],
      "source": [
        "#Declaramos las variables dependientes e independientes para la regresión lineal\n",
        "#Vars_Indep= df[['alcohol', 'speeding']]\n",
        "Vars_Indep6= Cuantitativas[['semana']]\n",
        "Var_Dep6= Cuantitativas['pagos_realizados']"
      ]
    },
    {
      "cell_type": "code",
      "execution_count": null,
      "metadata": {
        "id": "gtLR9dW97mhk"
      },
      "outputs": [],
      "source": [
        "#Se define model como la función de regresión lineal\n",
        "from sklearn.linear_model import LinearRegression\n",
        "model7= LinearRegression()"
      ]
    },
    {
      "cell_type": "code",
      "execution_count": null,
      "metadata": {
        "id": "yYnIkPEAGoYg"
      },
      "outputs": [],
      "source": [
        "#Ajustamos el modelo con las variables antes declaradas\n",
        "model7.fit(X=Vars_Indep6, y=Var_Dep6)"
      ]
    },
    {
      "cell_type": "code",
      "execution_count": null,
      "metadata": {
        "id": "iLcIich7DlD-"
      },
      "outputs": [],
      "source": [
        "#Verificamos los coeficientes obtenidos para el modelo ajustado\n",
        "model7.__dict__"
      ]
    },
    {
      "cell_type": "markdown",
      "metadata": {
        "id": "3V3tqygnD_qY"
      },
      "source": [
        "Modelo matemático: y= -0.01281814x + 13.228256219508708"
      ]
    },
    {
      "cell_type": "code",
      "execution_count": null,
      "metadata": {
        "id": "qwyBGjqbD-vO"
      },
      "outputs": [],
      "source": [
        "#Predecimos los valores de total de accidentes a partir de la variable \"alcohol\"\n",
        "#y_pred= model.predict(X=df[['alcohol', 'speeding']])\n",
        "y_pred7= model7.predict(X=Cuantitativas[['semana']])\n",
        "y_pred7"
      ]
    },
    {
      "cell_type": "code",
      "execution_count": null,
      "metadata": {
        "id": "UnmaxVTbD8TY"
      },
      "outputs": [],
      "source": [
        "#Insertamos la columna de predicciones en el DataFrame\n",
        "Cuantitativas.insert(0, 'Predicciones7', y_pred7)\n",
        "Cuantitativas"
      ]
    },
    {
      "cell_type": "code",
      "execution_count": null,
      "metadata": {
        "id": "GkUPXQl9EGa1"
      },
      "outputs": [],
      "source": [
        "#Visualizamos la gráfica comparativa entre el total real y el total predecido\n",
        "\n",
        "sns.scatterplot(x='semana', y='pagos_realizados', color=\"blue\", data=Cuantitativas)\n",
        "sns.scatterplot(x='semana', y='Predicciones7', color=\"red\", data=Cuantitativas)\n",
        "#sns.lineplot(x='alcohol', y='Predicciones', color=\"red\", data=df)"
      ]
    },
    {
      "cell_type": "code",
      "execution_count": null,
      "metadata": {
        "id": "ZAzoHXmyEJwX"
      },
      "outputs": [],
      "source": [
        "#Corroboramos cual es el coeficiente de Determinación de nuestro modelo\n",
        "coef_Deter7=model7.score(X=Vars_Indep6, y=Var_Dep6)\n",
        "coef_Deter7"
      ]
    },
    {
      "cell_type": "code",
      "execution_count": null,
      "metadata": {
        "id": "09A_dbirEQX8"
      },
      "outputs": [],
      "source": [
        "#Corroboramos cual es el coeficiente de Correlación de nuestro modelo\n",
        "coef_Correl7=np.sqrt(coef_Deter7)\n",
        "coef_Correl7"
      ]
    },
    {
      "cell_type": "markdown",
      "metadata": {
        "id": "KGUBwksIGjnJ"
      },
      "source": [
        "\n",
        "“Porcentaje_enganche”"
      ]
    },
    {
      "cell_type": "code",
      "execution_count": null,
      "metadata": {
        "id": "4rSaITTKGfYr"
      },
      "outputs": [],
      "source": [
        "#Imprimimos el scatter plot entre la variable dependiente (total) e independiente (alchool)\n",
        "#para observar el comportamiento en su dispersión\n",
        "from turtle import color\n",
        "sns.scatterplot(x='score_buro', y='porc_enganche', color=\"blue\", data=Cuantitativas)\n",
        "sns.scatterplot(x='status', y='porc_enganche', color=\"red\", data=Cuantitativas)"
      ]
    },
    {
      "cell_type": "code",
      "execution_count": null,
      "metadata": {
        "id": "-7BGHVh5HPFT"
      },
      "outputs": [],
      "source": [
        "#Declaramos las variables dependientes e independientes para la regresión lineal\n",
        "#Vars_Indep= df[['alcohol', 'speeding']]\n",
        "Vars_Indep7= Cuantitativas[['score_buro']]\n",
        "Var_Dep7= Cuantitativas['porc_enganche']"
      ]
    },
    {
      "cell_type": "code",
      "execution_count": null,
      "metadata": {
        "id": "tlo4Gyw7HPw-"
      },
      "outputs": [],
      "source": [
        "#Se define model como la función de regresión lineal\n",
        "from sklearn.linear_model import LinearRegression\n",
        "model8= LinearRegression()"
      ]
    },
    {
      "cell_type": "code",
      "execution_count": null,
      "metadata": {
        "id": "MTYO3oh6Hjxn"
      },
      "outputs": [],
      "source": [
        "#Ajustamos el modelo con las variables antes declaradas\n",
        "model8.fit(X=Vars_Indep7, y=Var_Dep7)"
      ]
    },
    {
      "cell_type": "code",
      "execution_count": null,
      "metadata": {
        "id": "1uqlQJ16HlhM"
      },
      "outputs": [],
      "source": [
        "#Verificamos los coeficientes obtenidos para el modelo ajustado\n",
        "model8.__dict__"
      ]
    },
    {
      "cell_type": "markdown",
      "metadata": {
        "id": "-JwmDAB-H9X9"
      },
      "source": [
        "Modelo matemático: y= -0.07932367x + 0.8802345802939936"
      ]
    },
    {
      "cell_type": "code",
      "execution_count": null,
      "metadata": {
        "id": "0egQCjz2IBz2"
      },
      "outputs": [],
      "source": [
        "#Predecimos los valores de total de accidentes a partir de la variable \"alcohol\"\n",
        "#y_pred= model.predict(X=df[['alcohol', 'speeding']])\n",
        "y_pred8= model8.predict(X=Cuantitativas[['score_buro']])\n",
        "y_pred8"
      ]
    },
    {
      "cell_type": "code",
      "execution_count": null,
      "metadata": {
        "id": "PEOqBbMkIL2t"
      },
      "outputs": [],
      "source": [
        "#Insertamos la columna de predicciones en el DataFrame\n",
        "Cuantitativas.insert(0, 'Predicciones8', y_pred8)\n",
        "Cuantitativas"
      ]
    },
    {
      "cell_type": "code",
      "execution_count": null,
      "metadata": {
        "id": "XzHGKDGwIOS9"
      },
      "outputs": [],
      "source": [
        "#Visualizamos la gráfica comparativa entre el total real y el total predecido\n",
        "\n",
        "sns.scatterplot(x='semana', y='pagos_realizados', color=\"blue\", data=Cuantitativas)\n",
        "sns.scatterplot(x='semana', y='Predicciones7', color=\"red\", data=Cuantitativas)\n",
        "#sns.lineplot(x='alcohol', y='Predicciones', color=\"red\", data=df)"
      ]
    },
    {
      "cell_type": "code",
      "execution_count": null,
      "metadata": {
        "id": "v2WgvinqISuA"
      },
      "outputs": [],
      "source": [
        "#Corroboramos cual es el coeficiente de Determinación de nuestro modelo\n",
        "coef_Deter8=model8.score(X=Vars_Indep7, y=Var_Dep7)\n",
        "coef_Deter8"
      ]
    },
    {
      "cell_type": "code",
      "execution_count": null,
      "metadata": {
        "id": "Z9SqPO7aIV0e"
      },
      "outputs": [],
      "source": [
        "#Corroboramos cual es el coeficiente de Correlación de nuestro modelo\n",
        "coef_Correl8=np.sqrt(coef_Deter8)\n",
        "coef_Correl8"
      ]
    }
  ],
  "metadata": {
    "colab": {
      "provenance": [],
      "authorship_tag": "ABX9TyNChMDaqKa5qQGVnQiOgqCe",
      "include_colab_link": true
    },
    "kernelspec": {
      "display_name": "Python 3",
      "name": "python3"
    },
    "language_info": {
      "name": "python"
    }
  },
  "nbformat": 4,
  "nbformat_minor": 0
}